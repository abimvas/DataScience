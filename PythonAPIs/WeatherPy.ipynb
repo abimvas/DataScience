{
 "cells": [
  {
   "cell_type": "code",
   "execution_count": null,
   "metadata": {
    "collapsed": true
   },
   "outputs": [],
   "source": [
    "# Dependencies\n",
    "from citipy import citipy\n",
    "import pandas as pd\n",
    "import matplotlib.pyplot as plt\n",
    "import requests as req\n",
    "import numpy as np\n",
    "import json\n",
    "import seaborn as sns"
   ]
  },
  {
   "cell_type": "code",
   "execution_count": null,
   "metadata": {},
   "outputs": [],
   "source": [
    "# generate random lat and long\n",
    "ran_lat = np.random.randint(-90, 90, size=600)\n",
    "ran_lon = np.random.randint(-180, 180, size=600)\n",
    "\n",
    "# create dataframe to hold the goods\n",
    "latlon_df = pd.DataFrame({'Lat':ran_lat, 'Lon':ran_lon}).astype(float)\n",
    "latlon_df[\"City\"] = \"\"\n",
    "latlon_df[\"Country Code\"] = \"\"\n",
    "latlon_df[\"Temperature (F)\"] = \"\"\n",
    "latlon_df[\"Humidity (%)\"] = \"\"\n",
    "latlon_df[\"Cloudiness (%)\"] = \"\"\n",
    "latlon_df[\"Windspeed (mph)\"] = \"\"\n",
    "\n",
    "#latlon_df.head()"
   ]
  },
  {
   "cell_type": "code",
   "execution_count": null,
   "metadata": {},
   "outputs": [],
   "source": [
    "# find closest cities to random lat and lon\n",
    "for index, row in latlon_df.iterrows():\n",
    "    latlon_df.at[index, 'City'] = citipy.nearest_city(row[\"Lat\"], row[\"Lon\"]).city_name\n",
    "    latlon_df.at[index, 'Country Code'] = citipy.nearest_city(row[\"Lat\"], row[\"Lon\"]).country_code\n",
    "\n",
    "#latlon_df.head()"
   ]
  },
  {
   "cell_type": "code",
   "execution_count": null,
   "metadata": {
    "collapsed": true
   },
   "outputs": [],
   "source": [
    "# Save config information\n",
    "import config\n",
    "\n",
    "api_key = config.key\n",
    "url = \"http://api.openweathermap.org/data/2.5/weather?\"\n",
    "units = \"imperial\""
   ]
  },
  {
   "cell_type": "code",
   "execution_count": null,
   "metadata": {},
   "outputs": [],
   "source": [
    "template = \"# {:^10}|{:^20}|{:^70}#\"\n",
    "header = template.format(\"wid\", \"city\", \"url (http://api.openweathermap.org/data/2.5/)\")\n",
    "\n",
    "# go through rows and define cities and countries\n",
    "for index, row in latlon_df.iterrows():\n",
    "    city_name = row[\"City\"].replace(\" \",\"+\")\n",
    "    country_code = row[\"Country Code\"]\n",
    "    \n",
    "    # create query url using the city_name and country_code\n",
    "    target_url = \"http://api.openweathermap.org/data/2.5/weather?\" + \"appid=\" + api_key + \"&units=\" + units + \"&q=\" + city_name + \",\" + country_code\n",
    "    \n",
    "    #print(target_url)\n",
    "    \n",
    "    cities_lat_lon = req.get(target_url).json()\n",
    "    #print(json.dumps(cities_lat_lon, indent=4, sort_keys=True))\n",
    "    \n",
    "# retrieve data for each column using try and except in case the city does not have weather tracking\n",
    "    try:\n",
    "        latlon_df.at[index, \"Temperature (F)\"] = cities_lat_lon[\"main\"][\"temp\"]\n",
    "        latlon_df.at[index, \"Humidity (%)\"] = cities_lat_lon[\"main\"][\"humidity\"]\n",
    "        latlon_df.at[index, \"Cloudiness (%)\"] = cities_lat_lon[\"clouds\"][\"all\"]\n",
    "        latlon_df.at[index, \"Windspeed (mph)\"] = cities_lat_lon[\"wind\"][\"speed\"]\n",
    "    \n",
    "    except:\n",
    "        #print(\"Missing field... skipping.\")\n",
    "        latlon_df.at[index, \"Temperature (F)\"] = \"NaN\"\n",
    "        latlon_df.at[index, \"Humidity (%)\"] = \"NaN\"\n",
    "        latlon_df.at[index, \"Cloudiness (%)\"] = \"NaN\"\n",
    "        latlon_df.at[index, \"Windspeed (mph)\"] = \"NaN\"\n",
    "        \n",
    "        latlon_df = latlon_df[~latlon_df['Temperature (F)'].isin(['NaN'])]\n",
    "\n",
    "# cities and urls\n",
    "    try:\n",
    "        print(header)\n",
    "        print(\"\".join([\"-\" for i in range(110)]))\n",
    "        print(template.format(cities_lat_lon[\"id\"], cities_lat_lon[\"name\"], target_url))\n",
    "    except KeyError:\n",
    "        print(\"City does not have weather tracked.\")\n",
    "        \n",
    "latlon_df.head()\n",
    "        \n"
   ]
  },
  {
   "cell_type": "code",
   "execution_count": null,
   "metadata": {
    "collapsed": true
   },
   "outputs": [],
   "source": [
    "# scatter plot of Temperature (F) vs. Latitude\n",
    "#plt.scatter(latlon_df[\"Temperature (F)\"], latlon_df[\"Lat\"], marker=\"o\", facecolors=\"red\", edgecolors=\"black\")\n",
    "\n",
    "sns.regplot(x=latlon_df[\"Temperature (F)\"], y=latlon_df[\"Lat\"], fit_reg=False, color=\"blue\")\n",
    "\n",
    "# setting axis limits\n",
    "plt.ylim(-90,90)\n",
    "plt.xlim(-30,120)\n",
    "\n",
    "# creating labels\n",
    "plt.title(\"Temperature (F) vs. Latitude\")\n",
    "plt.xlabel(\"Temperature (F)\")\n",
    "plt.ylabel(\"Latitude\")\n",
    "\n",
    "plt.savefig(\"Temp_Lat.png\")\n",
    "plt.show()\n",
    "\n"
   ]
  },
  {
   "cell_type": "code",
   "execution_count": null,
   "metadata": {
    "collapsed": true
   },
   "outputs": [],
   "source": [
    "# scatter plot of Humidity (%) vs. Latitude\n",
    "sns.regplot(x=latlon_df[\"Humidity (%)\"], y=latlon_df[\"Lat\"], fit_reg=False, color=\"blue\")\n",
    "\n",
    "# setting axis limits\n",
    "plt.ylim(-90,90)\n",
    "plt.xlim(-10,110)\n",
    "\n",
    "# creating labels\n",
    "plt.title(\"Humidity (%) vs. Latitude\")\n",
    "plt.xlabel(\"Humidity (%)\")\n",
    "plt.ylabel(\"Latitude\")\n",
    "\n",
    "plt.savefig(\"Hum_Lat.png\")\n",
    "plt.show()"
   ]
  },
  {
   "cell_type": "code",
   "execution_count": null,
   "metadata": {
    "collapsed": true
   },
   "outputs": [],
   "source": [
    "# scatter plot of Cloudiness (%) vs. Latitude\n",
    "sns.regplot(x=latlon_df[\"Cloudiness (%)\"], y=latlon_df[\"Lat\"], fit_reg=False, color=\"blue\")\n",
    "\n",
    "# setting axis limits\n",
    "plt.ylim(-90,90)\n",
    "plt.xlim(-10,110)\n",
    "\n",
    "# creating labels\n",
    "plt.title(\"Cloudiness (%) vs. Latitude\")\n",
    "plt.xlabel(\"Cloudiness (%)\")\n",
    "plt.ylabel(\"Latitude\")\n",
    "\n",
    "plt.savefig(\"Cloud_Lat.png\")\n",
    "plt.show()"
   ]
  },
  {
   "cell_type": "code",
   "execution_count": null,
   "metadata": {
    "collapsed": true
   },
   "outputs": [],
   "source": [
    "# scatter plot of Wind Speed (mph) vs. Latitude\n",
    "sns.regplot(x=latlon_df[\"Windspeed (mph)\"], y=latlon_df[\"Lat\"], fit_reg=False, color=\"blue\")\n",
    "\n",
    "# setting axis limits\n",
    "plt.ylim(-90,90)\n",
    "plt.xlim(-10, 40)\n",
    "\n",
    "# creating labels\n",
    "plt.title(\"Windspeed (mph) vs. Latitude\")\n",
    "plt.xlabel(\"Windspeed (mph)\")\n",
    "plt.ylabel(\"Latitude\")\n",
    "\n",
    "plt.savefig(\"Wind_Lat.png\")\n",
    "plt.show()"
   ]
  },
  {
   "cell_type": "code",
   "execution_count": null,
   "metadata": {
    "collapsed": true
   },
   "outputs": [],
   "source": [
    "# export to csv\n",
    "latlon_df.to_csv(WeatherPy, encoding='utf-8', index=False)"
   ]
  },
  {
   "cell_type": "code",
   "execution_count": null,
   "metadata": {},
   "outputs": [],
   "source": []
  },
  {
   "cell_type": "code",
   "execution_count": null,
   "metadata": {
    "collapsed": true
   },
   "outputs": [],
   "source": []
  }
 ],
 "metadata": {
  "kernelspec": {
   "display_name": "Python [conda env:PythonData]",
   "language": "python",
   "name": "conda-env-PythonData-py"
  },
  "language_info": {
   "codemirror_mode": {
    "name": "ipython",
    "version": 3
   },
   "file_extension": ".py",
   "mimetype": "text/x-python",
   "name": "python",
   "nbconvert_exporter": "python",
   "pygments_lexer": "ipython3",
   "version": "3.6.3"
  }
 },
 "nbformat": 4,
 "nbformat_minor": 2
}
